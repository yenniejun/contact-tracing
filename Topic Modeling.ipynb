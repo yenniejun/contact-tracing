{
 "cells": [
  {
   "cell_type": "code",
   "execution_count": 232,
   "metadata": {},
   "outputs": [],
   "source": [
    "import matplotlib as mpl\n",
    "import matplotlib.pyplot as plt\n",
    "%matplotlib inline"
   ]
  },
  {
   "cell_type": "code",
   "execution_count": 320,
   "metadata": {},
   "outputs": [],
   "source": [
    "import pickle\n",
    "import string"
   ]
  },
  {
   "cell_type": "code",
   "execution_count": 233,
   "metadata": {},
   "outputs": [],
   "source": [
    "import pandas as pd\n",
    "from datetime import datetime\n",
    "import numpy as np;\n",
    "import scipy as sp;\n",
    "import sklearn;\n",
    "import sys;\n",
    "\n",
    "from nltk.corpus import stopwords;\n",
    "import nltk;\n",
    "from nltk.stem import WordNetLemmatizer, SnowballStemmer\n",
    "from nltk.stem.porter import *\n",
    "from nltk import word_tokenize\n",
    "\n",
    "from sklearn.feature_extraction.text import CountVectorizer, TfidfTransformer, TfidfVectorizer\n",
    "from sklearn.decomposition import LatentDirichletAllocation\n",
    "from sklearn.decomposition import NMF;\n",
    "from sklearn.preprocessing import normalize;\n",
    "from scipy import linalg\n",
    "\n",
    "import gensim\n",
    "from gensim.utils import simple_preprocess\n",
    "from gensim.parsing.preprocessing import STOPWORDS\n"
   ]
  },
  {
   "cell_type": "markdown",
   "metadata": {},
   "source": [
    "# Korean News"
   ]
  },
  {
   "cell_type": "markdown",
   "metadata": {},
   "source": [
    "## Clean Data"
   ]
  },
  {
   "cell_type": "code",
   "execution_count": 404,
   "metadata": {},
   "outputs": [],
   "source": [
    "df_c = pd.read_csv(\"data/naver_news_contacttracing.csv\")\n",
    "df_p = pd.read_csv(\"data/naver_news_patientspread.csv\")\n",
    "df_c.drop(columns=[\"Unnamed: 0\", \"Unnamed: 0.1\"], inplace=True)\n",
    "df_p.drop(columns=\"Unnamed: 0\", inplace=True)"
   ]
  },
  {
   "cell_type": "code",
   "execution_count": 405,
   "metadata": {},
   "outputs": [],
   "source": [
    "df = pd.concat([df_c, df_p])\n",
    "df.reset_index(drop=True, inplace=True)"
   ]
  },
  {
   "cell_type": "code",
   "execution_count": 406,
   "metadata": {},
   "outputs": [
    {
     "data": {
      "text/plain": [
       "4286"
      ]
     },
     "execution_count": 406,
     "metadata": {},
     "output_type": "execute_result"
    }
   ],
   "source": [
    "len(df)"
   ]
  },
  {
   "cell_type": "code",
   "execution_count": 407,
   "metadata": {},
   "outputs": [
    {
     "data": {
      "text/plain": [
       "(2953, 1333)"
      ]
     },
     "execution_count": 407,
     "metadata": {},
     "output_type": "execute_result"
    }
   ],
   "source": [
    "conservative = df[df.outlet.str.contains(\"조선일보|중앙일보|동아일보\")]\n",
    "liberal = df[df.outlet.str.contains(\"한겨레|경향신문\")]\n",
    "len(conservative), len(liberal)"
   ]
  },
  {
   "cell_type": "code",
   "execution_count": 408,
   "metadata": {},
   "outputs": [
    {
     "data": {
      "text/plain": [
       "array(['중앙일보', '중앙일보언론사 선정', '한겨레언론사 선정', '동아일보언론사 선정', '동아일보', '한겨레',\n",
       "       '디지틀조선일보', '조선일보언론사 선정', '조선일보', '경향신문', '경향신문언론사 선정'],\n",
       "      dtype=object)"
      ]
     },
     "execution_count": 408,
     "metadata": {},
     "output_type": "execute_result"
    }
   ],
   "source": [
    "df.outlet.unique()"
   ]
  },
  {
   "cell_type": "code",
   "execution_count": 409,
   "metadata": {},
   "outputs": [
    {
     "data": {
      "text/plain": [
       "array(['코로나 역학조사', '확진자 추적'], dtype=object)"
      ]
     },
     "execution_count": 409,
     "metadata": {},
     "output_type": "execute_result"
    }
   ],
   "source": [
    "df.keywords.unique()"
   ]
  },
  {
   "cell_type": "code",
   "execution_count": 410,
   "metadata": {},
   "outputs": [
    {
     "name": "stdout",
     "output_type": "stream",
     "text": [
      "4\n"
     ]
    }
   ],
   "source": [
    "# The null ones\n",
    "print(len(df[df['text'].isnull()]))\n",
    "\n",
    "# Just drop the null ones. There are only 4\n",
    "df = df[~df['text'].isnull()]"
   ]
  },
  {
   "cell_type": "code",
   "execution_count": 411,
   "metadata": {},
   "outputs": [],
   "source": [
    "def clean_text(text):\n",
    "    remove_char = string.punctuation + '…' + '\\xa0' + '·' + '\\n' + \\\n",
    "        '※' + '‘' + '’' + '\\'' + '▲' + '∼' + \"△\" + \"“\" + \"”\" + \"▶\" + \"․\" + \\\n",
    "        \"▸\"\n",
    "    text = re.sub('http[s]?://\\S+', '', text) # Remove http urls\n",
    "    text = re.sub('\\S*@\\S*\\s?', '', text) # Remove emails\n",
    "    text = re.sub(r'\\[.*?\\]', '', text) # Remove text in square brackets\n",
    "    text = re.sub(r'[%s]' % re.escape(remove_char), '', text) # Remove punctuation\n",
    "    text = re.sub(r'\\w*\\d\\w*', '', text) # Remove words containing numbers\n",
    "    text = re.sub('\\'', '', text)\n",
    "    text = re.sub(r'Copyright .* rights reserved', '', text) # Remove \"Copyright all rights reserved\"\n",
    "    return text\n"
   ]
  },
  {
   "cell_type": "code",
   "execution_count": 412,
   "metadata": {},
   "outputs": [],
   "source": [
    "df['text_clean'] = pd.DataFrame(df.text.apply(lambda x: clean_text(x)))"
   ]
  },
  {
   "cell_type": "code",
   "execution_count": 417,
   "metadata": {},
   "outputs": [],
   "source": [
    "df.to_pickle(\"korean_news_raw.pkl\")"
   ]
  },
  {
   "cell_type": "markdown",
   "metadata": {
    "heading_collapsed": true
   },
   "source": [
    "## Preprocess"
   ]
  },
  {
   "cell_type": "markdown",
   "metadata": {
    "heading_collapsed": true,
    "hidden": true
   },
   "source": [
    "### Morphemes"
   ]
  },
  {
   "cell_type": "code",
   "execution_count": 123,
   "metadata": {
    "hidden": true
   },
   "outputs": [],
   "source": [
    "# Break text into its morphemes\n",
    "# FYI this takes forever\n",
    "\n",
    "from konlpy.tag import Okt  \n",
    "okt=Okt()  \n",
    "texts_ko = [okt.morphs(doc) for doc in df['text_clean']]\n",
    "# print(texts_ko[0])"
   ]
  },
  {
   "cell_type": "code",
   "execution_count": 403,
   "metadata": {
    "hidden": true
   },
   "outputs": [
    {
     "data": {
      "text/plain": [
       "list"
      ]
     },
     "execution_count": 403,
     "metadata": {},
     "output_type": "execute_result"
    }
   ],
   "source": [
    "type(texts_ko)"
   ]
  },
  {
   "cell_type": "code",
   "execution_count": 153,
   "metadata": {
    "hidden": true
   },
   "outputs": [],
   "source": [
    "# Save this to file\n",
    "with open('texts_ko_morphemes.data', 'wb') as filehandle:\n",
    "    # store the data as binary data stream\n",
    "    pickle.dump(texts_ko, filehandle)"
   ]
  },
  {
   "cell_type": "markdown",
   "metadata": {
    "hidden": true
   },
   "source": [
    "### Tokenize"
   ]
  },
  {
   "cell_type": "code",
   "execution_count": 418,
   "metadata": {
    "hidden": true
   },
   "outputs": [],
   "source": [
    "df = pd.read_pickle(\"korean_news_raw.pkl\")"
   ]
  },
  {
   "cell_type": "code",
   "execution_count": 419,
   "metadata": {
    "hidden": true
   },
   "outputs": [],
   "source": [
    "# Import the Korean morphemes\n",
    "with open('texts_ko_morphemes.data', 'rb') as filehandle:\n",
    "    # read the data as binary data stream\n",
    "    morphemes = pickle.load(filehandle)"
   ]
  },
  {
   "cell_type": "code",
   "execution_count": 420,
   "metadata": {
    "hidden": true
   },
   "outputs": [
    {
     "data": {
      "text/plain": [
       "(2546066, 35924)"
      ]
     },
     "execution_count": 420,
     "metadata": {},
     "output_type": "execute_result"
    }
   ],
   "source": [
    "# Tokenize the morphemes\n",
    "from itertools import chain\n",
    "\n",
    "ko = nltk.Text(morphemes)\n",
    "ko_list = list(chain.from_iterable(ko.tokens))\n",
    "len(ko_list), len(set(ko_list))"
   ]
  },
  {
   "cell_type": "code",
   "execution_count": 421,
   "metadata": {
    "hidden": true
   },
   "outputs": [],
   "source": [
    "# Import Korean stop words from https://github.com/stopwords-iso/stopwords-ko\n",
    "import json\n",
    "with open('korean_stopwords.json') as f:\n",
    "  stopwords = json.load(f)\n",
    "\n",
    "# Add some extra words\n",
    "stopwords.extend(['에서', '으로', '이다', '는', '한', '은', '씨', 'A', '서', '다', '했다', '하는', 'ㆍ'])"
   ]
  },
  {
   "cell_type": "code",
   "execution_count": 422,
   "metadata": {
    "hidden": true
   },
   "outputs": [
    {
     "data": {
      "text/plain": [
       "5139"
      ]
     },
     "execution_count": 422,
     "metadata": {},
     "output_type": "execute_result"
    }
   ],
   "source": [
    "ko_list.count('코로나') "
   ]
  },
  {
   "cell_type": "code",
   "execution_count": 423,
   "metadata": {
    "hidden": true
   },
   "outputs": [],
   "source": [
    "df['text_tokenized'] = texts_ko"
   ]
  },
  {
   "cell_type": "code",
   "execution_count": 424,
   "metadata": {
    "hidden": true
   },
   "outputs": [],
   "source": [
    "# Remove stopwords from tokens\n",
    "# This takes a while\n",
    "# but not TOO long of a while\n",
    "# It's like an okay kind of while I guess\n",
    "df['text_tokenized'] = df['text_tokenized'].apply(lambda x: [a for a in x if a not in stopwords])\n"
   ]
  },
  {
   "cell_type": "code",
   "execution_count": 426,
   "metadata": {
    "hidden": true
   },
   "outputs": [
    {
     "name": "stdout",
     "output_type": "stream",
     "text": [
      "4282\n"
     ]
    }
   ],
   "source": [
    "df['date'] = pd.to_datetime(df.date, errors=\"coerce\")\n",
    "print(len(df))"
   ]
  },
  {
   "cell_type": "code",
   "execution_count": 427,
   "metadata": {
    "hidden": true
   },
   "outputs": [
    {
     "data": {
      "text/html": [
       "<div>\n",
       "<style scoped>\n",
       "    .dataframe tbody tr th:only-of-type {\n",
       "        vertical-align: middle;\n",
       "    }\n",
       "\n",
       "    .dataframe tbody tr th {\n",
       "        vertical-align: top;\n",
       "    }\n",
       "\n",
       "    .dataframe thead th {\n",
       "        text-align: right;\n",
       "    }\n",
       "</style>\n",
       "<table border=\"1\" class=\"dataframe\">\n",
       "  <thead>\n",
       "    <tr style=\"text-align: right;\">\n",
       "      <th></th>\n",
       "      <th>outlet</th>\n",
       "      <th>date</th>\n",
       "      <th>keywords</th>\n",
       "      <th>title</th>\n",
       "      <th>url</th>\n",
       "      <th>text</th>\n",
       "      <th>text_clean</th>\n",
       "      <th>text_tokenized</th>\n",
       "    </tr>\n",
       "  </thead>\n",
       "  <tbody>\n",
       "    <tr>\n",
       "      <th>0</th>\n",
       "      <td>중앙일보</td>\n",
       "      <td>2020-01-06</td>\n",
       "      <td>코로나 역학조사</td>\n",
       "      <td>中 폐렴 59명으로 늘고 홍콩·싱가포르 의심환자…출장가도 될까</td>\n",
       "      <td>https://news.joins.com/article/olink/23269722</td>\n",
       "      <td>중국에서 원인을 알 수 없는 폐렴에 걸린 환자가 며칠 새 크게 불어나고 있다. 중국...</td>\n",
       "      <td>중국에서 원인을 알 수 없는 폐렴에 걸린 환자가 며칠 새 크게 불어나고 있다 중국 ...</td>\n",
       "      <td>[중국, 원인, 알, 수, 없는, 폐렴, 걸린, 환자, 며칠, 새, 크게, 불어나고...</td>\n",
       "    </tr>\n",
       "    <tr>\n",
       "      <th>1</th>\n",
       "      <td>중앙일보언론사 선정</td>\n",
       "      <td>2020-01-08</td>\n",
       "      <td>코로나 역학조사</td>\n",
       "      <td>'中 원인불명 폐렴' 국내 첫 의심환자 발생…36세 중국여성</td>\n",
       "      <td>https://news.joins.com/article/olink/23271730</td>\n",
       "      <td>우한 화난 수산시장. [신경보=연합뉴스]         중국에서 최근 유행 중인 원...</td>\n",
       "      <td>우한 화난 수산시장          중국에서 최근 유행 중인 원인불명 폐렴 환자와 ...</td>\n",
       "      <td>[우한, 화난, 수산시장, 중국, 최근, 유행, 중인, 원인, 불명, 폐렴, 환자,...</td>\n",
       "    </tr>\n",
       "    <tr>\n",
       "      <th>2</th>\n",
       "      <td>한겨레언론사 선정</td>\n",
       "      <td>2020-01-08</td>\n",
       "      <td>코로나 역학조사</td>\n",
       "      <td>‘원인불명 중국 폐렴’ 의심환자 국내 첫 발생</td>\n",
       "      <td>http://www.hani.co.kr/arti/society/health/9236...</td>\n",
       "      <td>중국 후베이성 우한을 다녀온 뒤 폐렴에 걸린 환자가 한명 발생해, 보건당국이 격리 ...</td>\n",
       "      <td>여성은 우한 방문 당시 폐렴 환자가 대거 발생한 화난 해산물 시장을 방문한 적은 ...</td>\n",
       "      <td>[여성, 우한, 방문, 당시, 폐렴, 환자, 대거, 발생, 화난, 해산물, 시장, ...</td>\n",
       "    </tr>\n",
       "    <tr>\n",
       "      <th>3</th>\n",
       "      <td>중앙일보언론사 선정</td>\n",
       "      <td>2020-01-08</td>\n",
       "      <td>코로나 역학조사</td>\n",
       "      <td>국내 '中원인불명 폐렴' 의심 36세 여성…\"접촉자 증상은 없어\"</td>\n",
       "      <td>https://news.joins.com/article/olink/23271933</td>\n",
       "      <td>중국에서 원인을 알수 없는 폐렴이 확산하면서 우리나라 보건당국도 검역 관리 강화에 ...</td>\n",
       "      <td>중국에서 원인을 알수 없는 폐렴이 확산하면서 우리나라 보건당국도 검역 관리 강화에 ...</td>\n",
       "      <td>[중국, 원인, 알수, 없는, 폐렴, 확산, 우리나라, 보건, 당, 국도, 검역, ...</td>\n",
       "    </tr>\n",
       "    <tr>\n",
       "      <th>4</th>\n",
       "      <td>동아일보언론사 선정</td>\n",
       "      <td>2020-01-09</td>\n",
       "      <td>코로나 역학조사</td>\n",
       "      <td>원인불명 폐렴 증상 中 여성, 상태 호전…“접촉자는 29명”</td>\n",
       "      <td>http://www.donga.com/news/article/all/20200109...</td>\n",
       "      <td>지난달 우한 다녀온 30대 여성\\n사진=뉴시스중국 후베이(湖北)성 우한(武漢)시에서...</td>\n",
       "      <td>지난달 우한 다녀온  여성사진뉴시스중국 후베이湖北성 우한武漢시에서 집단 발생한 원인...</td>\n",
       "      <td>[지난달, 우한, 다녀온, 여성, 사진, 뉴시스, 중국, 후베이, 湖北, 성, 우한...</td>\n",
       "    </tr>\n",
       "  </tbody>\n",
       "</table>\n",
       "</div>"
      ],
      "text/plain": [
       "       outlet       date  keywords                                 title  \\\n",
       "0        중앙일보 2020-01-06  코로나 역학조사    中 폐렴 59명으로 늘고 홍콩·싱가포르 의심환자…출장가도 될까   \n",
       "1  중앙일보언론사 선정 2020-01-08  코로나 역학조사     '中 원인불명 폐렴' 국내 첫 의심환자 발생…36세 중국여성   \n",
       "2   한겨레언론사 선정 2020-01-08  코로나 역학조사             ‘원인불명 중국 폐렴’ 의심환자 국내 첫 발생   \n",
       "3  중앙일보언론사 선정 2020-01-08  코로나 역학조사  국내 '中원인불명 폐렴' 의심 36세 여성…\"접촉자 증상은 없어\"   \n",
       "4  동아일보언론사 선정 2020-01-09  코로나 역학조사     원인불명 폐렴 증상 中 여성, 상태 호전…“접촉자는 29명”   \n",
       "\n",
       "                                                 url  \\\n",
       "0      https://news.joins.com/article/olink/23269722   \n",
       "1      https://news.joins.com/article/olink/23271730   \n",
       "2  http://www.hani.co.kr/arti/society/health/9236...   \n",
       "3      https://news.joins.com/article/olink/23271933   \n",
       "4  http://www.donga.com/news/article/all/20200109...   \n",
       "\n",
       "                                                text  \\\n",
       "0  중국에서 원인을 알 수 없는 폐렴에 걸린 환자가 며칠 새 크게 불어나고 있다. 중국...   \n",
       "1  우한 화난 수산시장. [신경보=연합뉴스]         중국에서 최근 유행 중인 원...   \n",
       "2  중국 후베이성 우한을 다녀온 뒤 폐렴에 걸린 환자가 한명 발생해, 보건당국이 격리 ...   \n",
       "3  중국에서 원인을 알수 없는 폐렴이 확산하면서 우리나라 보건당국도 검역 관리 강화에 ...   \n",
       "4  지난달 우한 다녀온 30대 여성\\n사진=뉴시스중국 후베이(湖北)성 우한(武漢)시에서...   \n",
       "\n",
       "                                          text_clean  \\\n",
       "0  중국에서 원인을 알 수 없는 폐렴에 걸린 환자가 며칠 새 크게 불어나고 있다 중국 ...   \n",
       "1  우한 화난 수산시장          중국에서 최근 유행 중인 원인불명 폐렴 환자와 ...   \n",
       "2   여성은 우한 방문 당시 폐렴 환자가 대거 발생한 화난 해산물 시장을 방문한 적은 ...   \n",
       "3  중국에서 원인을 알수 없는 폐렴이 확산하면서 우리나라 보건당국도 검역 관리 강화에 ...   \n",
       "4  지난달 우한 다녀온  여성사진뉴시스중국 후베이湖北성 우한武漢시에서 집단 발생한 원인...   \n",
       "\n",
       "                                      text_tokenized  \n",
       "0  [중국, 원인, 알, 수, 없는, 폐렴, 걸린, 환자, 며칠, 새, 크게, 불어나고...  \n",
       "1  [우한, 화난, 수산시장, 중국, 최근, 유행, 중인, 원인, 불명, 폐렴, 환자,...  \n",
       "2  [여성, 우한, 방문, 당시, 폐렴, 환자, 대거, 발생, 화난, 해산물, 시장, ...  \n",
       "3  [중국, 원인, 알수, 없는, 폐렴, 확산, 우리나라, 보건, 당, 국도, 검역, ...  \n",
       "4  [지난달, 우한, 다녀온, 여성, 사진, 뉴시스, 중국, 후베이, 湖北, 성, 우한...  "
      ]
     },
     "execution_count": 427,
     "metadata": {},
     "output_type": "execute_result"
    }
   ],
   "source": [
    "df.head()"
   ]
  },
  {
   "cell_type": "code",
   "execution_count": 428,
   "metadata": {
    "hidden": true
   },
   "outputs": [],
   "source": [
    "df.to_pickle(\"korean_proc.pkl\")"
   ]
  },
  {
   "cell_type": "markdown",
   "metadata": {
    "heading_collapsed": true
   },
   "source": [
    "## Topic Modeling"
   ]
  },
  {
   "cell_type": "code",
   "execution_count": 254,
   "metadata": {
    "hidden": true
   },
   "outputs": [],
   "source": [
    "def show_topics(a, vocab, num_top_words):\n",
    "    top_words = lambda t: [vocab[i] for i in np.argsort(t)[:-num_top_words-1:-1]]\n",
    "    topic_words = ([top_words(t) for t in a])\n",
    "    return [' '.join(t) for t in topic_words]"
   ]
  },
  {
   "cell_type": "code",
   "execution_count": 255,
   "metadata": {
    "hidden": true,
    "scrolled": true
   },
   "outputs": [],
   "source": [
    "df = pd.read_pickle(\"korean_proc.pkl\")\n",
    "df.reset_index(inplace=True, drop=True)\n"
   ]
  },
  {
   "cell_type": "code",
   "execution_count": 256,
   "metadata": {
    "hidden": true
   },
   "outputs": [
    {
     "data": {
      "text/plain": [
       "(2949, 1333)"
      ]
     },
     "execution_count": 256,
     "metadata": {},
     "output_type": "execute_result"
    }
   ],
   "source": [
    "conservative = df[df.outlet.str.contains(\"조선일보|중앙일보|동아일보\")]\n",
    "liberal = df[df.outlet.str.contains(\"한겨레|경향신문\")]\n",
    "len(conservative), len(liberal)"
   ]
  },
  {
   "cell_type": "code",
   "execution_count": 257,
   "metadata": {
    "hidden": true
   },
   "outputs": [],
   "source": [
    "def nmf_topic_modeling(df, num_topics, num_top_words):\n",
    "    documents = [' '.join(a) for a in df.text_tokenized]\n",
    "    \n",
    "    vectorizer = TfidfVectorizer(min_df=1, lowercase=False)\n",
    "    vectors = vectorizer.fit_transform(documents)\n",
    "    clf = NMF(n_components=num_topics, random_state=1, init='nndsvd')\n",
    "    W1 = clf.fit_transform(vectors)\n",
    "    H1 = clf.components_\n",
    "    vocab = np.array(vectorizer.get_feature_names())\n",
    "    return show_topics(H1, vocab, num_top_words)"
   ]
  },
  {
   "cell_type": "code",
   "execution_count": 205,
   "metadata": {
    "hidden": true,
    "scrolled": true
   },
   "outputs": [
    {
     "data": {
      "text/plain": [
       "['환자 우한 중국 폐렴 감염 병원 국내 신종 관리 하고 코로나 지역 본부 감염증 질병',\n",
       " '입국 외국인 모든 격리 대상 비자 경우 자가 지정 경유 중국 이내 가능 이탈리아 발급',\n",
       " '클럽 이태원 감염 진자 서울 관련 등교 방문 방역 노래방 인천 학원 용산구 집단 주점',\n",
       " '신천지 교회 대구 신도 교인 예배 명단 대구시 과천 참석 조사 경기도 수사 진자 지역',\n",
       " '추천 병사 남북 전선 용서 미안해 하겠다니이 분대 푼돈 끌려가 삐라 수리온 오세요 벌겠다고 매단',\n",
       " '판정 진자 확진 병원 받았다 지난 검사 격리 직원 접촉 됐다 인천 받은 추가 콜센터']"
      ]
     },
     "execution_count": 205,
     "metadata": {},
     "output_type": "execute_result"
    }
   ],
   "source": [
    "nmf_topic_modeling(conservative, 6, 15)"
   ]
  },
  {
   "cell_type": "code",
   "execution_count": 206,
   "metadata": {
    "hidden": true
   },
   "outputs": [
    {
     "data": {
      "text/plain": [
       "['판정 확진 진자 병원 지난 검사 여성 받았다 격리 조사 진료 양성 증상 울산 방문',\n",
       " '환자 감염 신종 중국 병원 본부 코로나바이러스 방역 의료 관리 국내 입국 우한 사회 격리',\n",
       " '신천지 교회 신도 교인 예배 대구 명단 대구시 참석 과천 조사 경기도 진자 관련 경찰',\n",
       " '클럽 이태원 감염 학원 등교 서울 인천 방문 강사 방역 방문자 학생 수업 노래방 관련',\n",
       " '부산 부산시 진자 온천 경남 부산진구 동래구 교회 판정 격리 감염 도착 환자 해운대구 지난달',\n",
       " '콜센터 인천 직원 구로구 서울 부천 진자 판정 물류 쿠팡 근무 센터 거주 빌딩 감염']"
      ]
     },
     "execution_count": 206,
     "metadata": {},
     "output_type": "execute_result"
    }
   ],
   "source": [
    "nmf_topic_modeling(liberal, 6, 15)"
   ]
  },
  {
   "cell_type": "code",
   "execution_count": 207,
   "metadata": {
    "hidden": true
   },
   "outputs": [
    {
     "data": {
      "text/plain": [
       "['판정 진자 확진 지난 병원 받았다 검사 격리 여성 직원 부산 양성 됐다 인천 접촉',\n",
       " '입국 외국인 모든 격리 대상 비자 자가 중국 경우 경유 지정 이탈리아 이내 가능 한국',\n",
       " '클럽 이태원 감염 진자 서울 등교 관련 인천 방역 방문 학원 노래방 집단 방문자 용산구',\n",
       " '신천지 교회 신도 대구 교인 예배 명단 대구시 과천 참석 조사 경기도 진자 관련 수사',\n",
       " '환자 감염 우한 중국 병원 폐렴 신종 국내 관리 본부 코로나 의료 지역 사회 질병',\n",
       " '추천 병사 전선 용서 수리온 삐라 미안해 매단 끌려가 하겠다니이 오세요 푼돈 벌겠다고 폭행 분대']"
      ]
     },
     "execution_count": 207,
     "metadata": {},
     "output_type": "execute_result"
    }
   ],
   "source": [
    "# This is liberal + conservative (all)\n",
    "nmf_topic_modeling(df, 6, 15)"
   ]
  },
  {
   "cell_type": "code",
   "execution_count": 212,
   "metadata": {
    "hidden": true
   },
   "outputs": [],
   "source": [
    "def lda_topic_modeling(df, num_topics, num_top_words):\n",
    "    documents = [' '.join(a) for a in df.text_tokenized]\n",
    "    \n",
    "    vectorizer = CountVectorizer(analyzer='word', min_df=3, max_features=5000)\n",
    "    vectors = vectorizer.fit_transform(documents)\n",
    "\n",
    "    clf = LatentDirichletAllocation(n_components=num_topics, # Number of topics\n",
    "                                      learning_method='online',\n",
    "                                      random_state=0,       \n",
    "                                      n_jobs = -1  # Use all available CPUs\n",
    "                                     )\n",
    "    \n",
    "    W1 = clf.fit_transform(vectors)\n",
    "    H1 = clf.components_\n",
    "    vocab = np.array(vectorizer.get_feature_names())\n",
    "    return show_topics(H1, vocab, num_top_words)\n"
   ]
  },
  {
   "cell_type": "code",
   "execution_count": 213,
   "metadata": {
    "hidden": true
   },
   "outputs": [
    {
     "data": {
      "text/plain": [
       "['판정 진자 확진 병원 검사 지난 받았다 격리 접촉 됐다 조사 하고 감염 환자 방문',\n",
       " '입국 격리 외국인 모든 대상 경우 자가 방문 국민 중국 시설 한국 비자 검사 지정',\n",
       " '신천지 교회 진자 감염 우한 신종 중국 조사 코로나 확진 대구 하고 예배 신도 교인',\n",
       " '추천 환자 확진 연락 사무소 뉴스 폭파 진자 베스트 하셨습니다 추가 감염 기사 격리 기자',\n",
       " '감염 환자 진자 클럽 방역 발생 관련 이태원 접촉 하고 서울 검사 지역 조사 집단',\n",
       " '하고 방역 확산 감염 정부 대응 진자 한국 코로나 마스크 상황 중국 한다 추적 기자']"
      ]
     },
     "execution_count": 213,
     "metadata": {},
     "output_type": "execute_result"
    }
   ],
   "source": [
    "lda_topic_modeling(conservative, 6, 15)"
   ]
  },
  {
   "cell_type": "code",
   "execution_count": 214,
   "metadata": {
    "hidden": true
   },
   "outputs": [
    {
     "data": {
      "text/plain": [
       "['진자 병원 교회 감염 환자 신천지 조사 확진 대구 검사 판정 하고 격리 부산 발생',\n",
       " '확진 판정 검사 진자 접촉 격리 조사 지난 방문 하고 증상 역학 됐다 확인 환자',\n",
       " '진자 감염 클럽 이태원 확진 판정 방역 서울 직원 지난 하고 인천 발생 콜센터 학원',\n",
       " '신천지 감염병 역학 경찰 조사 수사 명단 고발 위반 사실 검찰 허위 사건 하고 거부',\n",
       " '감염 진자 하고 방역 환자 중국 지역 정부 확산 의료 있는 신종 사람 사회 대응',\n",
       " '사회 하고 한다 정보 감염 기술 방역 한국 시민 정부 사람 추적 대한 시스템 있는']"
      ]
     },
     "execution_count": 214,
     "metadata": {},
     "output_type": "execute_result"
    }
   ],
   "source": [
    "lda_topic_modeling(liberal, 6, 15)"
   ]
  },
  {
   "cell_type": "code",
   "execution_count": 215,
   "metadata": {
    "hidden": true
   },
   "outputs": [
    {
     "data": {
      "text/plain": [
       "['클럽 이태원 방역 등교 하고 감염 학생 서울 학원 시설 관련 학교 센터 진자 물류',\n",
       " '입국 격리 외국인 모든 대상 경우 자가 방문 국민 중국 시설 한국 비자 검사 지정',\n",
       " '추천 뉴스 연락 사무소 환자 폭파 베스트 기사 하셨습니다 추가 병사 공개 확진 위해 에도',\n",
       " '진자 확진 판정 환자 감염 검사 병원 접촉 조사 지난 격리 됐다 하고 확인 발생',\n",
       " '감염 하고 환자 방역 진자 정부 중국 사회 코로나 사람 확산 한다 신종 바이러스 지역',\n",
       " '신천지 교회 대구 조사 신도 교인 예배 대구시 하고 명단 진자 관련 역학 경찰 경기도']"
      ]
     },
     "execution_count": 215,
     "metadata": {},
     "output_type": "execute_result"
    }
   ],
   "source": [
    "lda_topic_modeling(df, 6, 15)"
   ]
  },
  {
   "cell_type": "markdown",
   "metadata": {},
   "source": [
    "## Data Exploration"
   ]
  },
  {
   "cell_type": "code",
   "execution_count": 263,
   "metadata": {},
   "outputs": [],
   "source": [
    "import itertools"
   ]
  },
  {
   "cell_type": "code",
   "execution_count": 258,
   "metadata": {},
   "outputs": [],
   "source": [
    "df = pd.read_pickle(\"korean_proc.pkl\")\n",
    "df.reset_index(inplace=True, drop=True)\n",
    "conservative = df[df.outlet.str.contains(\"조선일보|중앙일보|동아일보\")]\n",
    "liberal = df[df.outlet.str.contains(\"한겨레|경향신문\")]"
   ]
  },
  {
   "cell_type": "code",
   "execution_count": 264,
   "metadata": {},
   "outputs": [],
   "source": [
    "# https://stackoverflow.com/questions/952914/how-to-make-a-flat-list-out-of-list-of-lists\n",
    "\n",
    "def list_flatten(l, a=None):\n",
    "    #check a\n",
    "    if a is None:\n",
    "        #initialize with empty list\n",
    "        a = []\n",
    "\n",
    "    for i in l:\n",
    "        if isinstance(i, list):\n",
    "            list_flatten(i, a)\n",
    "        else:\n",
    "            if (len(i) != 1): a.append(i)\n",
    "    return a"
   ]
  },
  {
   "cell_type": "markdown",
   "metadata": {
    "heading_collapsed": true
   },
   "source": [
    "### Frequency"
   ]
  },
  {
   "cell_type": "code",
   "execution_count": 246,
   "metadata": {
    "hidden": true
   },
   "outputs": [],
   "source": [
    "lib_freq = list_flatten(liberal.text_tokenized.values)\n",
    "lib_dist = nltk.FreqDist(lib_freq)"
   ]
  },
  {
   "cell_type": "code",
   "execution_count": 247,
   "metadata": {
    "hidden": true
   },
   "outputs": [
    {
     "name": "stdout",
     "output_type": "stream",
     "text": [
      "('진자', 5158)\n",
      "('감염', 3846)\n",
      "('하고', 3075)\n",
      "('확진', 2731)\n",
      "('환자', 2612)\n",
      "('판정', 2608)\n",
      "('검사', 2535)\n",
      "('조사', 2496)\n",
      "('병원', 2144)\n",
      "('격리', 2067)\n",
      "('방역', 2065)\n",
      "('지난', 2005)\n",
      "('접촉', 1947)\n",
      "('역학', 1879)\n",
      "('발생', 1626)\n",
      "('지역', 1623)\n",
      "('신천지', 1608)\n",
      "('밝혔다', 1556)\n",
      "('됐다', 1506)\n",
      "('확인', 1455)\n",
      "('증상', 1339)\n",
      "('방문', 1308)\n",
      "('교회', 1289)\n",
      "('있는', 1228)\n",
      "('관리', 1200)\n",
      "('대구', 1197)\n",
      "('의료', 1129)\n",
      "('관련', 1098)\n",
      "('당국', 1086)\n",
      "('추가', 1061)\n",
      "('서울', 1041)\n",
      "('자가', 1009)\n",
      "('대한', 985)\n",
      "('받았다', 980)\n",
      "('사회', 980)\n",
      "('본부', 970)\n",
      "('확산', 956)\n",
      "('결과', 925)\n",
      "('정부', 925)\n",
      "('오후', 914)\n",
      "('파악', 876)\n",
      "('중국', 869)\n",
      "('현재', 865)\n",
      "('진료', 865)\n",
      "('받은', 861)\n",
      "('사람', 858)\n",
      "('직원', 850)\n",
      "('대해', 833)\n",
      "('시설', 829)\n",
      "('기자', 812)\n"
     ]
    },
    {
     "data": {
      "text/plain": [
       "'진자 감염 하고 확진 환자 판정 검사 조사 병원 격리 방역 지난 접촉 역학 발생 지역 신천지 밝혔다 됐다 확인 증상 방문 교회 있는 관리 대구 의료 관련 당국 추가 서울 자가 대한 받았다 사회 본부 확산 결과 정부 오후 파악 중국 현재 진료 받은 사람 직원 대해 시설 기자'"
      ]
     },
     "execution_count": 247,
     "metadata": {},
     "output_type": "execute_result"
    }
   ],
   "source": [
    "top_frequent = []\n",
    "for keys in lib_dist.most_common(50):\n",
    "    print(keys)\n",
    "    a,b = keys\n",
    "    top_frequent.append(a)\n",
    "\n",
    "' '.join([item for item in top_frequent if item not in stopwords])"
   ]
  },
  {
   "cell_type": "code",
   "execution_count": 248,
   "metadata": {
    "hidden": true
   },
   "outputs": [],
   "source": [
    "con_freq = list_flatten(conservative.text_tokenized.values)\n",
    "con_dist = nltk.FreqDist(con_freq)"
   ]
  },
  {
   "cell_type": "code",
   "execution_count": 222,
   "metadata": {
    "hidden": true,
    "scrolled": true
   },
   "outputs": [
    {
     "name": "stdout",
     "output_type": "stream",
     "text": [
      "('입국', 30080)\n",
      "('격리', 20112)\n",
      "('외국인', 16207)\n",
      "('모든', 13536)\n",
      "('진자', 12015)\n",
      "('대상', 11614)\n",
      "('검사', 10161)\n",
      "('방문', 9384)\n",
      "('감염', 9210)\n",
      "('자가', 8659)\n",
      "('환자', 8633)\n",
      "('경우', 8601)\n",
      "('하고', 7534)\n",
      "('지역', 7332)\n",
      "('중국', 7303)\n",
      "('시설', 6720)\n",
      "('국민', 6717)\n",
      "('한국', 6622)\n",
      "('확진', 6532)\n",
      "('판정', 6477)\n",
      "('확인', 5962)\n",
      "('병원', 5699)\n",
      "('발생', 5496)\n",
      "('지정', 5266)\n",
      "('조사', 5211)\n",
      "('비자', 5177)\n",
      "('국가', 5045)\n",
      "('방역', 4981)\n",
      "('관련', 4820)\n",
      "('거주', 4702)\n",
      "('코로나', 4638)\n",
      "('접촉', 4574)\n",
      "('신종', 4164)\n",
      "('조치', 4080)\n",
      "('또는', 4062)\n",
      "('음성', 4019)\n",
      "('증상', 3987)\n",
      "('가능', 3952)\n",
      "('있는', 3900)\n",
      "('지난', 3825)\n",
      "('금지', 3797)\n",
      "('경유', 3793)\n",
      "('이내', 3777)\n",
      "('이탈리아', 3691)\n",
      "('의료', 3652)\n",
      "('당국', 3636)\n",
      "('역학', 3592)\n",
      "('가족', 3583)\n",
      "('됐다', 3466)\n",
      "('이란', 3398)\n"
     ]
    },
    {
     "data": {
      "text/plain": [
       "'입국 격리 외국인 모든 진자 대상 검사 방문 감염 자가 환자 경우 하고 지역 중국 시설 국민 한국 확진 판정 확인 병원 발생 지정 조사 비자 국가 방역 관련 거주 코로나 접촉 신종 조치 또는 음성 증상 가능 있는 지난 금지 경유 이내 이탈리아 의료 당국 역학 가족 됐다 이란'"
      ]
     },
     "execution_count": 222,
     "metadata": {},
     "output_type": "execute_result"
    }
   ],
   "source": [
    "top_frequent = []\n",
    "for keys in con_dist.most_common(50):\n",
    "    print(keys)\n",
    "    a,b = keys\n",
    "    top_frequent.append(a)\n",
    "    \n",
    "' '.join([item for item in top_frequent if item not in stopwords])"
   ]
  },
  {
   "cell_type": "markdown",
   "metadata": {},
   "source": [
    "### Word Clouds"
   ]
  },
  {
   "cell_type": "code",
   "execution_count": 249,
   "metadata": {},
   "outputs": [],
   "source": [
    "from subprocess import check_output\n",
    "from wordcloud import WordCloud, STOPWORDS"
   ]
  },
  {
   "cell_type": "code",
   "execution_count": 269,
   "metadata": {},
   "outputs": [],
   "source": [
    "con = ' '.join(list_flatten(conservative.text_tokenized.values))"
   ]
  },
  {
   "cell_type": "code",
   "execution_count": 282,
   "metadata": {},
   "outputs": [],
   "source": [
    "# Having issues bc of Korean font problems... \n",
    "\n",
    "# data = con_dist.most_common(50)\n",
    "\n",
    "# wordcloud = WordCloud(\n",
    "#     font_path= '/usr/share/fonts/truetype/nanum/NanumBarunGothic.ttf',\n",
    "#     relative_scaling=0.4,\n",
    "# #     stopwords=stop_words,\n",
    "#     background_color='white',\n",
    "# ).generate_from_frequencies( dict(data) )\n",
    "\n",
    "\n",
    "# plt.figure( figsize=(12, 6) )\n",
    "# plt.imshow(wordcloud)\n",
    "# plt.axis(\"off\")\n",
    "# plt.show()"
   ]
  },
  {
   "cell_type": "markdown",
   "metadata": {},
   "source": [
    "# American News"
   ]
  },
  {
   "cell_type": "markdown",
   "metadata": {},
   "source": [
    "## Clean Data (merge american news datasets)"
   ]
  },
  {
   "cell_type": "code",
   "execution_count": 465,
   "metadata": {},
   "outputs": [],
   "source": [
    "cnn = pd.read_csv(\"data/cnn.csv\")\n",
    "fox = pd.read_csv(\"data/fox.csv\")\n",
    "nyt = pd.read_csv(\"data/nyt.csv\")\n",
    "wp = pd.read_csv(\"data/washingtonpost.csv\")\n",
    "usa = pd.read_csv(\"data/usatoday.csv\")\n",
    "\n",
    "dailycaller = pd.read_csv(\"data/dailycaller.csv\")\n",
    "breitbart = pd.read_csv(\"data/breitbart.csv\")\n"
   ]
  },
  {
   "cell_type": "code",
   "execution_count": 466,
   "metadata": {},
   "outputs": [],
   "source": [
    "cnn[\"source\"] = \"cnn\"\n",
    "fox[\"source\"] = \"fox\"\n",
    "nyt[\"source\"] = \"nyt\"\n",
    "dailycaller[\"source\"] = \"dailycaller\"\n",
    "breitbart[\"source\"] = \"breitbart\"\n",
    "nyt.rename(columns={\"body\": \"text\"}, inplace=True)\n",
    "wp[\"source\"] = \"washington post\"\n",
    "usa[\"source\"] = \"usa today\"\n",
    "usa.drop(columns=\"Unnamed: 0.1\", inplace=True)\n"
   ]
  },
  {
   "cell_type": "code",
   "execution_count": 467,
   "metadata": {},
   "outputs": [
    {
     "data": {
      "text/plain": [
       "(Index(['Unnamed: 0', 'title', 'date', 'url', 'text', 'source'], dtype='object'),\n",
       " Index(['Unnamed: 0', 'title', 'date', 'url', 'text', 'source'], dtype='object'),\n",
       " Index(['Unnamed: 0', 'title', 'date', 'url', 'text', 'source'], dtype='object'),\n",
       " Index(['Unnamed: 0', 'title', 'date', 'url', 'text', 'source'], dtype='object'),\n",
       " Index(['Unnamed: 0', 'title', 'date', 'url', 'text', 'source'], dtype='object'),\n",
       " Index(['title', 'date', 'url', 'text', 'source'], dtype='object'),\n",
       " Index(['title', 'date', 'url', 'text', 'source'], dtype='object'))"
      ]
     },
     "execution_count": 467,
     "metadata": {},
     "output_type": "execute_result"
    }
   ],
   "source": [
    "wp.columns, usa.columns, fox.columns, nyt.columns, cnn.columns, dailycaller.columns, breitbart.columns"
   ]
  },
  {
   "cell_type": "code",
   "execution_count": 468,
   "metadata": {},
   "outputs": [],
   "source": [
    "df = pd.concat([cnn, fox, nyt, wp, usa, dailycaller, breitbart])\n",
    "df[\"keyword\"] = \"contact tracing\"\n",
    "df.drop(columns=\"Unnamed: 0\", inplace=True)\n",
    "df.reset_index(drop=True, inplace=True)"
   ]
  },
  {
   "cell_type": "code",
   "execution_count": 469,
   "metadata": {},
   "outputs": [
    {
     "name": "stdout",
     "output_type": "stream",
     "text": [
      "27\n",
      "3623\n"
     ]
    }
   ],
   "source": [
    "# These are all the null ones, usually due to being video, radio, or interactive files. We will drop these\n",
    "nullvals = df[df['text'].isnull()]\n",
    "print(len(nullvals))\n",
    "\n",
    "df = df[df['text'].notna()]\n",
    "print(len(df))"
   ]
  },
  {
   "cell_type": "code",
   "execution_count": 470,
   "metadata": {},
   "outputs": [
    {
     "name": "stderr",
     "output_type": "stream",
     "text": [
      "/Users/yenniejun/anaconda3/lib/python3.7/site-packages/dateutil/parser/_parser.py:1218: UnknownTimezoneWarning: tzname ET identified but not understood.  Pass `tzinfos` argument in order to correctly return a timezone-aware datetime.  In a future version, this will raise an exception.\n",
      "  category=UnknownTimezoneWarning)\n"
     ]
    }
   ],
   "source": [
    "# Fix dates with weird formats\n",
    "df['date2'] = pd.to_datetime(df.date, errors=\"coerce\")\n",
    "a = df[df['date2'].isnull()].date.str.extract(\"(.*)T\", expand=False)\n",
    "df.loc[a.index, \"date2\"] = a.values\n",
    "\n",
    "df['date'] = pd.to_datetime(df['date2'], utc=True).dt.date\n",
    "df.drop(columns=\"date2\", inplace=True)"
   ]
  },
  {
   "cell_type": "code",
   "execution_count": 471,
   "metadata": {},
   "outputs": [
    {
     "data": {
      "text/plain": [
       "(0, 0)"
      ]
     },
     "execution_count": 471,
     "metadata": {},
     "output_type": "execute_result"
    }
   ],
   "source": [
    "len(df[df['date'].isnull()]), len(df[df['text'].isnull()])"
   ]
  },
  {
   "cell_type": "code",
   "execution_count": 472,
   "metadata": {},
   "outputs": [],
   "source": [
    "df.sort_values(by=\"date\", inplace=True)\n",
    "\n",
    "# Drop the things before 2020-01-01\n",
    "df = df.loc[df.date > pd.to_datetime(\"2020-01-01\").date()]\n",
    "df.reset_index(inplace=True, drop=True)"
   ]
  },
  {
   "cell_type": "code",
   "execution_count": 475,
   "metadata": {},
   "outputs": [],
   "source": [
    "df.to_pickle(\"us_news_raw.pkl\")"
   ]
  },
  {
   "cell_type": "markdown",
   "metadata": {},
   "source": [
    "## Preprocess Data (lemmatize, stem)"
   ]
  },
  {
   "cell_type": "code",
   "execution_count": 480,
   "metadata": {},
   "outputs": [],
   "source": [
    "df = pd.read_pickle(\"us_news_raw.pkl\")\n",
    "df.reset_index(inplace=True, drop=True)"
   ]
  },
  {
   "cell_type": "code",
   "execution_count": 483,
   "metadata": {},
   "outputs": [
    {
     "data": {
      "text/plain": [
       "(3492, 2153)"
      ]
     },
     "execution_count": 483,
     "metadata": {},
     "output_type": "execute_result"
    }
   ],
   "source": [
    "# Number of articles vs. Number of articles that mention \"contact tracing\"\n",
    "len(df), len(df[df.text.str.contains(\"contact tracing|contact-tracing\")])"
   ]
  },
  {
   "cell_type": "code",
   "execution_count": 484,
   "metadata": {},
   "outputs": [],
   "source": [
    "# Drop all the articles that do not explicitly mention contact tracing\n",
    "df = df[df.text.str.contains(\"contact tracing|contact-tracing\")]"
   ]
  },
  {
   "cell_type": "code",
   "execution_count": 485,
   "metadata": {},
   "outputs": [
    {
     "name": "stderr",
     "output_type": "stream",
     "text": [
      "[nltk_data] Downloading package wordnet to\n",
      "[nltk_data]     /Users/yenniejun/nltk_data...\n",
      "[nltk_data]   Package wordnet is already up-to-date!\n"
     ]
    }
   ],
   "source": [
    "import nltk\n",
    "nltk.download('wordnet')\n",
    "\n",
    "np.random.seed(2018)"
   ]
  },
  {
   "cell_type": "code",
   "execution_count": 338,
   "metadata": {},
   "outputs": [],
   "source": [
    "stemmer = SnowballStemmer('english')\n",
    "\n",
    "def lemmatize_stemming(text):\n",
    "    return stemmer.stem(WordNetLemmatizer().lemmatize(text, pos='v'))\n",
    "\n",
    "\n",
    "def preprocess(text):\n",
    "    result = []\n",
    "    for token in gensim.utils.simple_preprocess(text):\n",
    "        if token not in gensim.parsing.preprocessing.STOPWORDS and len(token) > 3:\n",
    "#             result.append(WordNetLemmatizer().lemmatize(token, pos='v'))\n",
    "            result.append(lemmatize_stemming(token))\n",
    "    return result"
   ]
  },
  {
   "cell_type": "code",
   "execution_count": 319,
   "metadata": {
    "scrolled": true
   },
   "outputs": [
    {
     "data": {
      "text/html": [
       "<div>\n",
       "<style scoped>\n",
       "    .dataframe tbody tr th:only-of-type {\n",
       "        vertical-align: middle;\n",
       "    }\n",
       "\n",
       "    .dataframe tbody tr th {\n",
       "        vertical-align: top;\n",
       "    }\n",
       "\n",
       "    .dataframe thead th {\n",
       "        text-align: right;\n",
       "    }\n",
       "</style>\n",
       "<table border=\"1\" class=\"dataframe\">\n",
       "  <thead>\n",
       "    <tr style=\"text-align: right;\">\n",
       "      <th></th>\n",
       "      <th>title</th>\n",
       "      <th>date</th>\n",
       "      <th>url</th>\n",
       "      <th>text</th>\n",
       "      <th>source</th>\n",
       "      <th>keyword</th>\n",
       "      <th>text_proc</th>\n",
       "    </tr>\n",
       "  </thead>\n",
       "  <tbody>\n",
       "    <tr>\n",
       "      <th>0</th>\n",
       "      <td>China identifies new strain of coronavirus as ...</td>\n",
       "      <td>2020-01-09</td>\n",
       "      <td>https://www.washingtonpost.com/world/asia_paci...</td>\n",
       "      <td>BEIJING — Chinese researchers investigating th...</td>\n",
       "      <td>washington post</td>\n",
       "      <td>contact tracing</td>\n",
       "      <td>beij chines research investig caus mysteri pne...</td>\n",
       "    </tr>\n",
       "    <tr>\n",
       "      <th>1</th>\n",
       "      <td>Airport screenings for the Wuhan coronavirus i...</td>\n",
       "      <td>2020-01-22</td>\n",
       "      <td>https://www.cnn.com/travel/article/coronavirus...</td>\n",
       "      <td>Airports around the world are increasing healt...</td>\n",
       "      <td>cnn</td>\n",
       "      <td>contact tracing</td>\n",
       "      <td>airport world increas health screen implement ...</td>\n",
       "    </tr>\n",
       "    <tr>\n",
       "      <th>2</th>\n",
       "      <td>China restricts travel for 35 million people t...</td>\n",
       "      <td>2020-01-24</td>\n",
       "      <td>https://www.washingtonpost.com/health/china-re...</td>\n",
       "      <td>Beijing — China locked down more than 35 milli...</td>\n",
       "      <td>washington post</td>\n",
       "      <td>contact tracing</td>\n",
       "      <td>beij china lock million peopl increas urgent e...</td>\n",
       "    </tr>\n",
       "    <tr>\n",
       "      <th>3</th>\n",
       "      <td>Coronavirus claims 15 more lives in China; fir...</td>\n",
       "      <td>2020-01-24</td>\n",
       "      <td>https://www.washingtonpost.com/world/coronavir...</td>\n",
       "      <td>BEIJING — France confirmed three cases of coro...</td>\n",
       "      <td>washington post</td>\n",
       "      <td>contact tracing</td>\n",
       "      <td>beij franc confirm case coronavirus friday mar...</td>\n",
       "    </tr>\n",
       "    <tr>\n",
       "      <th>4</th>\n",
       "      <td>January 26 coronavirus news</td>\n",
       "      <td>2020-01-26</td>\n",
       "      <td>https://www.cnn.com/asia/live-news/coronavirus...</td>\n",
       "      <td>Our live coverage has ended. Click here to fol...</td>\n",
       "      <td>cnn</td>\n",
       "      <td>contact tracing</td>\n",
       "      <td>live coverag end click follow latest updat con...</td>\n",
       "    </tr>\n",
       "  </tbody>\n",
       "</table>\n",
       "</div>"
      ],
      "text/plain": [
       "                                               title        date  \\\n",
       "0  China identifies new strain of coronavirus as ...  2020-01-09   \n",
       "1  Airport screenings for the Wuhan coronavirus i...  2020-01-22   \n",
       "2  China restricts travel for 35 million people t...  2020-01-24   \n",
       "3  Coronavirus claims 15 more lives in China; fir...  2020-01-24   \n",
       "4                        January 26 coronavirus news  2020-01-26   \n",
       "\n",
       "                                                 url  \\\n",
       "0  https://www.washingtonpost.com/world/asia_paci...   \n",
       "1  https://www.cnn.com/travel/article/coronavirus...   \n",
       "2  https://www.washingtonpost.com/health/china-re...   \n",
       "3  https://www.washingtonpost.com/world/coronavir...   \n",
       "4  https://www.cnn.com/asia/live-news/coronavirus...   \n",
       "\n",
       "                                                text           source  \\\n",
       "0  BEIJING — Chinese researchers investigating th...  washington post   \n",
       "1  Airports around the world are increasing healt...              cnn   \n",
       "2  Beijing — China locked down more than 35 milli...  washington post   \n",
       "3  BEIJING — France confirmed three cases of coro...  washington post   \n",
       "4  Our live coverage has ended. Click here to fol...              cnn   \n",
       "\n",
       "           keyword                                          text_proc  \n",
       "0  contact tracing  beij chines research investig caus mysteri pne...  \n",
       "1  contact tracing  airport world increas health screen implement ...  \n",
       "2  contact tracing  beij china lock million peopl increas urgent e...  \n",
       "3  contact tracing  beij franc confirm case coronavirus friday mar...  \n",
       "4  contact tracing  live coverag end click follow latest updat con...  "
      ]
     },
     "execution_count": 319,
     "metadata": {},
     "output_type": "execute_result"
    }
   ],
   "source": [
    "df['text_proc'] = df['text'].map(preprocess)\n",
    "df['text_proc'] = df['text_proc'].apply(lambda a: ' '.join(a))\n",
    "\n",
    "df.head()"
   ]
  },
  {
   "cell_type": "code",
   "execution_count": 321,
   "metadata": {},
   "outputs": [],
   "source": [
    "df.to_pickle(\"us_proc.pkl\")"
   ]
  },
  {
   "cell_type": "markdown",
   "metadata": {},
   "source": [
    "## Explore Data"
   ]
  },
  {
   "cell_type": "code",
   "execution_count": 437,
   "metadata": {},
   "outputs": [],
   "source": [
    "from subprocess import check_output\n",
    "from wordcloud import WordCloud, STOPWORDS\n",
    "import matplotlib.pyplot as plt"
   ]
  },
  {
   "cell_type": "code",
   "execution_count": 438,
   "metadata": {},
   "outputs": [],
   "source": [
    "df = pd.read_pickle(\"us_proc.pkl\")\n",
    "df.reset_index(inplace=True, drop=True)"
   ]
  },
  {
   "cell_type": "code",
   "execution_count": 439,
   "metadata": {},
   "outputs": [
    {
     "data": {
      "text/plain": [
       "array(['washington post', 'cnn', 'fox', 'nyt', 'dailycaller', 'usa today',\n",
       "       'breitbart'], dtype=object)"
      ]
     },
     "execution_count": 439,
     "metadata": {},
     "output_type": "execute_result"
    }
   ],
   "source": [
    "df.source.unique()"
   ]
  },
  {
   "cell_type": "code",
   "execution_count": 440,
   "metadata": {},
   "outputs": [
    {
     "data": {
      "text/plain": [
       "(2153, 2153)"
      ]
     },
     "execution_count": 440,
     "metadata": {},
     "output_type": "execute_result"
    }
   ],
   "source": [
    "# Articles that specifically mention contact tracing\n",
    "len(df[df['text'].str.contains(\"contact tracing|contact-tracing\")]), len(df)"
   ]
  },
  {
   "cell_type": "code",
   "execution_count": 448,
   "metadata": {},
   "outputs": [],
   "source": [
    "liberal = df[df.source.str.contains(\"nyt|washington post|cnn\")].reset_index()"
   ]
  },
  {
   "cell_type": "code",
   "execution_count": 449,
   "metadata": {},
   "outputs": [],
   "source": [
    "conservative = df[df.source.str.contains(\"fox|dailycaller|breitbart\")].reset_index()"
   ]
  },
  {
   "cell_type": "code",
   "execution_count": 450,
   "metadata": {},
   "outputs": [
    {
     "data": {
      "text/plain": [
       "(1851, 229)"
      ]
     },
     "execution_count": 450,
     "metadata": {},
     "output_type": "execute_result"
    }
   ],
   "source": [
    "len(liberal), len(conservative)"
   ]
  },
  {
   "cell_type": "code",
   "execution_count": 451,
   "metadata": {
    "scrolled": true
   },
   "outputs": [
    {
     "data": {
      "text/plain": [
       "array(['China identifies new strain of coronavirus as source of pneumonia outbreak',\n",
       "       'Airport screenings for the Wuhan coronavirus increase around the world',\n",
       "       'China restricts travel for 35 million people to halt spread of deadly virus',\n",
       "       'Coronavirus claims 15 more lives in China; first three cases reported in Europe; first case reported in Australia; 2 cases confirmed in U.S.',\n",
       "       'January 26 coronavirus news', 'January 27 coronavirus news',\n",
       "       'January 28 coronavirus news',\n",
       "       \"China's national women's soccer team quarantined in Brisbane hotel amid coronavirus fears\",\n",
       "       'How deadly is coronavirus, and can it be contained?',\n",
       "       'Can this virus be contained? Probably not.'], dtype=object)"
      ]
     },
     "execution_count": 451,
     "metadata": {},
     "output_type": "execute_result"
    }
   ],
   "source": [
    "liberal[:10].title.values"
   ]
  },
  {
   "cell_type": "code",
   "execution_count": 452,
   "metadata": {},
   "outputs": [
    {
     "data": {
      "text/plain": [
       "array([\"Coronavirus outbreak in US may depend on this: 'We just don't know yet' says infectious disease doc\",\n",
       "       'How past outbreaks shaped coronavirus response in US',\n",
       "       'CDC director says coronavirus threat in US remains low, but warns there will be new cases',\n",
       "       \"HHS Secretary Alex Azar gives coronavirus update on 'Fox News Sunday'\",\n",
       "       \"Dr. Anthony Fauci: Coronavirus cases in US are becoming ‘community spread' and could be more prevalent\",\n",
       "       'HHS Secretary Azar says new coronavirus case appears in Chicago',\n",
       "       \"Dr. Anthony Fauci: Coronavirus cases in US are becoming ‘community spread' and could be more prevalent\",\n",
       "       \"HHS Secretary Alex Azar gives coronavirus update on 'Fox News Sunday'\",\n",
       "       'HHS Secretary Azar says new coronavirus case appears in Chicago',\n",
       "       'HHS Secretary Azar says new coronavirus case appears in Chicago'],\n",
       "      dtype=object)"
      ]
     },
     "execution_count": 452,
     "metadata": {},
     "output_type": "execute_result"
    }
   ],
   "source": [
    "conservative[:10].title.values"
   ]
  },
  {
   "cell_type": "markdown",
   "metadata": {},
   "source": [
    "### Frequent Words"
   ]
  },
  {
   "cell_type": "code",
   "execution_count": 362,
   "metadata": {},
   "outputs": [],
   "source": [
    "# Frequent words\n",
    "def list_flatten(l, a=None):\n",
    "    #check a\n",
    "    if a is None:\n",
    "        #initialize with empty list\n",
    "        a = []\n",
    "\n",
    "    for i in l:\n",
    "        if isinstance(i, list):\n",
    "            list_flatten(i, a)\n",
    "        else:\n",
    "            if (len(i) != 1): a.append(i)\n",
    "    return a"
   ]
  },
  {
   "cell_type": "code",
   "execution_count": 363,
   "metadata": {},
   "outputs": [],
   "source": [
    "def find_top_frequent_words(documents, top_n):\n",
    "    dist = nltk.FreqDist(documents)\n",
    "    top_frequent = []\n",
    "    for keys in dist.most_common(top_n):\n",
    "#         print(keys)\n",
    "        a,b = keys\n",
    "        top_frequent.append(keys)\n",
    "    return top_frequent"
   ]
  },
  {
   "cell_type": "code",
   "execution_count": 364,
   "metadata": {},
   "outputs": [
    {
     "data": {
      "text/plain": [
       "[('say', 1605),\n",
       " ('peopl', 1518),\n",
       " ('coronavirus', 1335),\n",
       " ('state', 1315),\n",
       " ('go', 1145),\n",
       " ('think', 1049),\n",
       " ('test', 1038),\n",
       " ('know', 1017),\n",
       " ('presid', 900),\n",
       " ('health', 857),\n",
       " ('news', 769),\n",
       " ('case', 720),\n",
       " ('like', 714),\n",
       " ('right', 703),\n",
       " ('countri', 645),\n",
       " ('time', 637),\n",
       " ('contact', 628),\n",
       " ('come', 610),\n",
       " ('need', 589),\n",
       " ('reopen', 567),\n",
       " ('work', 565),\n",
       " ('want', 565),\n",
       " ('virus', 560),\n",
       " ('trump', 560),\n",
       " ('trace', 523),\n",
       " ('covid', 515),\n",
       " ('wallac', 497),\n",
       " ('week', 493),\n",
       " ('thing', 483),\n",
       " ('look', 474),\n",
       " ('home', 442),\n",
       " ('report', 435),\n",
       " ('governor', 428),\n",
       " ('public', 426),\n",
       " ('busi', 412),\n",
       " ('american', 408),\n",
       " ('begin', 403),\n",
       " ('number', 394),\n",
       " ('infect', 388),\n",
       " ('tell', 385),\n",
       " ('spread', 371),\n",
       " ('biden', 353),\n",
       " ('york', 337),\n",
       " ('hous', 335),\n",
       " ('economi', 330),\n",
       " ('talk', 327),\n",
       " ('thank', 324),\n",
       " ('good', 320),\n",
       " ('democrat', 317),\n",
       " ('clip', 316)]"
      ]
     },
     "execution_count": 364,
     "metadata": {},
     "output_type": "execute_result"
    }
   ],
   "source": [
    "con = [a.split() for a in conservative.text_proc.values]\n",
    "con = list_flatten(con)\n",
    "find_top_frequent_words(con, 50)"
   ]
  },
  {
   "cell_type": "code",
   "execution_count": 365,
   "metadata": {},
   "outputs": [
    {
     "data": {
      "text/plain": [
       "[('say', 46981),\n",
       " ('coronavirus', 28907),\n",
       " ('state', 23321),\n",
       " ('test', 22496),\n",
       " ('health', 22473),\n",
       " ('peopl', 22470),\n",
       " ('case', 22026),\n",
       " ('virus', 12977),\n",
       " ('countri', 12946),\n",
       " ('death', 11644),\n",
       " ('report', 11575),\n",
       " ('covid', 10932),\n",
       " ('week', 10396),\n",
       " ('trump', 10110),\n",
       " ('infect', 9702),\n",
       " ('reopen', 9629),\n",
       " ('govern', 9373),\n",
       " ('public', 9302),\n",
       " ('pandem', 9102),\n",
       " ('need', 8998),\n",
       " ('work', 8868),\n",
       " ('number', 8865),\n",
       " ('offici', 8756),\n",
       " ('accord', 8737),\n",
       " ('home', 8474),\n",
       " ('time', 8426),\n",
       " ('presid', 8000),\n",
       " ('like', 7870),\n",
       " ('includ', 7535),\n",
       " ('spread', 7394),\n",
       " ('citi', 7343),\n",
       " ('hospit', 7304),\n",
       " ('nation', 7232),\n",
       " ('contact', 7044),\n",
       " ('go', 6761),\n",
       " ('mask', 6624),\n",
       " ('come', 6515),\n",
       " ('tell', 6402),\n",
       " ('know', 6099),\n",
       " ('diseas', 6011),\n",
       " ('busi', 5990),\n",
       " ('social', 5976),\n",
       " ('outbreak', 5970),\n",
       " ('news', 5941),\n",
       " ('posit', 5922),\n",
       " ('patient', 5902),\n",
       " ('care', 5751),\n",
       " ('world', 5723),\n",
       " ('unit', 5599),\n",
       " ('year', 5572)]"
      ]
     },
     "execution_count": 365,
     "metadata": {},
     "output_type": "execute_result"
    }
   ],
   "source": [
    "lib = [a.split() for a in liberal.text_proc.values]\n",
    "lib = list_flatten(lib)\n",
    "find_top_frequent_words(lib, 50)"
   ]
  },
  {
   "cell_type": "markdown",
   "metadata": {},
   "source": [
    "### Word Clouds"
   ]
  },
  {
   "cell_type": "code",
   "execution_count": null,
   "metadata": {},
   "outputs": [],
   "source": [
    "con = ' '.join(conservative.text_proc.values)"
   ]
  },
  {
   "cell_type": "code",
   "execution_count": 396,
   "metadata": {},
   "outputs": [
    {
     "data": {
      "image/png": "[encoded data removed]",
      "text/plain": [
       "<Figure size 432x288 with 1 Axes>"
      ]
     },
     "metadata": {
      "needs_background": "light"
     },
     "output_type": "display_data"
    }
   ],
   "source": [
    "wordcloud = WordCloud(max_font_size=50, background_color=\"white\").generate(con)\n",
    "plt.figure()\n",
    "plt.imshow(wordcloud, interpolation=\"bilinear\")\n",
    "plt.axis(\"off\")\n",
    "plt.show()"
   ]
  },
  {
   "cell_type": "code",
   "execution_count": 394,
   "metadata": {},
   "outputs": [],
   "source": [
    "lib = ' '.join(liberal.text_proc.values)"
   ]
  },
  {
   "cell_type": "code",
   "execution_count": 397,
   "metadata": {},
   "outputs": [
    {
     "data": {
      "image/png": "[encoded data removed]",
      "text/plain": [
       "<Figure size 432x288 with 1 Axes>"
      ]
     },
     "metadata": {
      "needs_background": "light"
     },
     "output_type": "display_data"
    }
   ],
   "source": [
    "wordcloud = WordCloud(max_font_size=50, background_color=\"white\").generate(lib)\n",
    "plt.figure()\n",
    "plt.imshow(wordcloud, interpolation=\"bilinear\")\n",
    "plt.axis(\"off\")\n",
    "plt.show()"
   ]
  },
  {
   "cell_type": "markdown",
   "metadata": {},
   "source": [
    "## Topic Modeling"
   ]
  },
  {
   "cell_type": "code",
   "execution_count": 350,
   "metadata": {},
   "outputs": [],
   "source": [
    "df = pd.read_pickle(\"us_proc.pkl\")\n",
    "df.reset_index(inplace=True, drop=True)\n"
   ]
  },
  {
   "cell_type": "markdown",
   "metadata": {},
   "source": [
    "### LDA"
   ]
  },
  {
   "cell_type": "code",
   "execution_count": 351,
   "metadata": {},
   "outputs": [],
   "source": [
    "def show_topics(a, vocab, num_top_words):\n",
    "    top_words = lambda t: [vocab[i] for i in np.argsort(t)[:-num_top_words-1:-1]]\n",
    "    topic_words = ([top_words(t) for t in a])\n",
    "    return [' '.join(t) for t in topic_words]"
   ]
  },
  {
   "cell_type": "code",
   "execution_count": 352,
   "metadata": {},
   "outputs": [],
   "source": [
    "def lda_topic_modeling(df, num_topics, num_top_words):\n",
    "    documents = [''.join(a) for a in df.text_proc]\n",
    "    \n",
    "    vectorizer = CountVectorizer(analyzer='word', min_df=3, stop_words='english', token_pattern='[a-zA-Z0-9]{3,}', max_features=5000)\n",
    "    vectors = vectorizer.fit_transform(documents)\n",
    "\n",
    "    clf = LatentDirichletAllocation(n_components=num_topics, # Number of topics\n",
    "                                      learning_method='online',\n",
    "                                      random_state=0,       \n",
    "                                      n_jobs = -1  # Use all available CPUs\n",
    "                                     )\n",
    "    \n",
    "    W1 = clf.fit_transform(vectors)\n",
    "    H1 = clf.components_\n",
    "    vocab = np.array(vectorizer.get_feature_names())\n",
    "    return show_topics(H1, vocab, num_top_words)\n"
   ]
  },
  {
   "cell_type": "code",
   "execution_count": 379,
   "metadata": {},
   "outputs": [
    {
     "data": {
      "text/plain": [
       "['peopl know think say coronavirus state like time come test news presid infect health virus',\n",
       " 'state say peopl know think test presid coronavirus come like right countri health need look',\n",
       " 'coronavirus say test health state peopl contact trace case news covid virus reopen report infect',\n",
       " 'know say peopl think biden maccallum right thank look democrat come home state news wallac',\n",
       " 'think peopl presid know state say right like want wallac trump time come thing countri',\n",
       " 'state coronavirus york citi say blasio busi reopen feder news think govern work economi open']"
      ]
     },
     "execution_count": 379,
     "metadata": {},
     "output_type": "execute_result"
    }
   ],
   "source": [
    "lda_topic_modeling(conservative, num_topics = 6, num_top_words = 15)"
   ]
  },
  {
   "cell_type": "code",
   "execution_count": 380,
   "metadata": {},
   "outputs": [
    {
     "data": {
      "text/plain": [
       "['coronavirus say case health travel china peopl state countri test accord confirm virus outbreak govern',\n",
       " 'case countri coronavirus say virus death infect peopl health lockdown world pandem govern covid report',\n",
       " 'say state coronavirus test health case peopl covid accord reopen report death week trump presid',\n",
       " 'say trump state test peopl coronavirus health need work know pandem presid public compani contact',\n",
       " 'peopl say coronavirus symptom test percent mask virus seat infect like spread state health day',\n",
       " 'say test state health case peopl reopen coronavirus covid contact home counti hospit school sign']"
      ]
     },
     "execution_count": 380,
     "metadata": {},
     "output_type": "execute_result"
    }
   ],
   "source": [
    "lda_topic_modeling(liberal, num_topics = 6, num_top_words = 15)"
   ]
  },
  {
   "cell_type": "code",
   "execution_count": 378,
   "metadata": {
    "scrolled": true
   },
   "outputs": [
    {
     "data": {
      "text/plain": [
       "['school say student test player sport team univers campus posit leagu play plan colleg season',\n",
       " 'case countri coronavirus say death virus infect peopl health govern lockdown pandem world covid test',\n",
       " 'coronavirus say case health china peopl travel state countri test virus accord confirm report outbreak',\n",
       " 'test peopl say state trump know health coronavirus need contact work presid public think trace',\n",
       " 'peopl say test coronavirus symptom percent virus infect mask spread health state like seat public',\n",
       " 'say state coronavirus health test case peopl covid reopen report death week accord number citi']"
      ]
     },
     "execution_count": 378,
     "metadata": {},
     "output_type": "execute_result"
    }
   ],
   "source": [
    "lda_topic_modeling(df, num_topics = 6, num_top_words = 15)"
   ]
  },
  {
   "cell_type": "code",
   "execution_count": 356,
   "metadata": {},
   "outputs": [
    {
     "data": {
      "text/plain": [
       "(1851, 1695)"
      ]
     },
     "execution_count": 356,
     "metadata": {},
     "output_type": "execute_result"
    }
   ],
   "source": [
    "len(liberal), len(liberal[liberal.text.str.contains(\"contact tracing\")])"
   ]
  },
  {
   "cell_type": "markdown",
   "metadata": {},
   "source": [
    "### NMF"
   ]
  },
  {
   "cell_type": "code",
   "execution_count": 358,
   "metadata": {},
   "outputs": [],
   "source": [
    "def nmf_topic_modeling(df, num_topics, num_top_words):\n",
    "    documents = [''.join(a) for a in df.text_proc]\n",
    "    \n",
    "    vectorizer = TfidfVectorizer(min_df=1, lowercase=False)\n",
    "    vectors = vectorizer.fit_transform(documents)\n",
    "    clf = NMF(n_components=num_topics, random_state=1, init='nndsvd')\n",
    "    W1 = clf.fit_transform(vectors)\n",
    "    H1 = clf.components_\n",
    "    vocab = np.array(vectorizer.get_feature_names())\n",
    "    return show_topics(H1, vocab, num_top_words)"
   ]
  },
  {
   "cell_type": "code",
   "execution_count": 375,
   "metadata": {},
   "outputs": [
    {
     "data": {
      "text/plain": [
       "['test health peopl isol infect coronavirus need covid contact million virus care say posit home',\n",
       " 'wallac think go presid know right biden peopl want like clip thing video thank look',\n",
       " 'googl appl app user privaci tech data contact technolog trace track bluetooth devic phone giant',\n",
       " 'protest floyd citi blasio georg mayor peopl york gather virus death atlanta adalja mask coronavirus',\n",
       " 'state reopen coronavirus say busi trump order governor economi cuomo plan phase news open case',\n",
       " 'case coronavirus say asymptomat fauci symptom rare azar health offici infect china outbreak spread diseas']"
      ]
     },
     "execution_count": 375,
     "metadata": {},
     "output_type": "execute_result"
    }
   ],
   "source": [
    "nmf_topic_modeling(conservative, num_topics = 6, num_top_words = 15)"
   ]
  },
  {
   "cell_type": "code",
   "execution_count": 376,
   "metadata": {},
   "outputs": [
    {
     "data": {
      "text/plain": [
       "['say case coronavirus countri death health report accord china virus total lockdown minist travel number',\n",
       " 'seat symptom peopl percent exercis coronavirus surfac say mask touch fever studi wear spread day',\n",
       " 'trump say presid test state hous white administr reopen biden governor democrat fauci coronavirus republican',\n",
       " 'test peopl infect coronavirus virus case health need countri stori covid sign curat editor state',\n",
       " 'googl appl compani data technolog app tech smartphon user privaci bluetooth contact health track phone',\n",
       " 'say state maryland virginia counti reopen citi health hogan test district case peopl region home']"
      ]
     },
     "execution_count": 376,
     "metadata": {},
     "output_type": "execute_result"
    }
   ],
   "source": [
    "nmf_topic_modeling(liberal, num_topics = 6, num_top_words = 15)"
   ]
  },
  {
   "cell_type": "code",
   "execution_count": 377,
   "metadata": {},
   "outputs": [
    {
     "data": {
      "text/plain": [
       "['trump presid hous say white state biden administr test democrat governor coronavirus reopen republican fauci',\n",
       " 'seat symptom peopl percent exercis surfac mask coronavirus touch fever studi wear say spread day',\n",
       " 'appl googl app technolog data compani user tech privaci smartphon contact bluetooth health trace track',\n",
       " 'say case coronavirus countri death china health report virus accord lockdown travel minist infect world',\n",
       " 'test peopl infect coronavirus need virus health case covid state stori sign curat editor contact',\n",
       " 'say state reopen counti health maryland virginia citi case test order peopl coronavirus busi governor']"
      ]
     },
     "execution_count": 377,
     "metadata": {},
     "output_type": "execute_result"
    }
   ],
   "source": [
    "nmf_topic_modeling(df, num_topics = 6, num_top_words = 15)"
   ]
  },
  {
   "cell_type": "markdown",
   "metadata": {},
   "source": [
    "## SVD\n"
   ]
  },
  {
   "cell_type": "code",
   "execution_count": 293,
   "metadata": {},
   "outputs": [
    {
     "name": "stdout",
     "output_type": "stream",
     "text": [
      "CPU times: user 8.59 s, sys: 639 ms, total: 9.22 s\n",
      "Wall time: 6.33 s\n"
     ]
    }
   ],
   "source": [
    "%time U, s, Vh = linalg.svd(vectors, full_matrices=False)\n"
   ]
  },
  {
   "cell_type": "code",
   "execution_count": 294,
   "metadata": {},
   "outputs": [],
   "source": [
    "num_top_words=8\n",
    "\n",
    "def show_topics(a):\n",
    "    top_words = lambda t: [vocab[i] for i in np.argsort(t)[:-num_top_words-1:-1]]\n",
    "    topic_words = ([top_words(t) for t in a])\n",
    "    return [' '.join(t) for t in topic_words]"
   ]
  },
  {
   "cell_type": "code",
   "execution_count": 295,
   "metadata": {},
   "outputs": [
    {
     "data": {
      "text/plain": [
       "['exosuit ufos scuba misappropriated immerse nonindividualization vibrancy treatise',\n",
       " 'cases coronavirus china confirmed health outbreak novel case',\n",
       " 'said state according trump today cnn cases announced',\n",
       " 'state tested case public testing symptoms contact said',\n",
       " 'health life daily trump travel business president coronavirus',\n",
       " 'cases new states united tested positive president italy',\n",
       " 'travel president testing covid 19 vaccine tuesday reopening',\n",
       " 'health wednesday tuesday state states thursday covid 19',\n",
       " 'state travel city announced wuhan restrictions wednesday health',\n",
       " 'thursday friday people positive hall tested town saturday']"
      ]
     },
     "execution_count": 295,
     "metadata": {},
     "output_type": "execute_result"
    }
   ],
   "source": [
    "show_topics(Vh[:10])\n"
   ]
  }
 ],
 "metadata": {
  "kernelspec": {
   "display_name": "Python 3",
   "language": "python",
   "name": "python3"
  },
  "language_info": {
   "codemirror_mode": {
    "name": "ipython",
    "version": 3
   },
   "file_extension": ".py",
   "mimetype": "text/x-python",
   "name": "python",
   "nbconvert_exporter": "python",
   "pygments_lexer": "ipython3",
   "version": "3.7.6"
  }
 },
 "nbformat": 4,
 "nbformat_minor": 4
}
